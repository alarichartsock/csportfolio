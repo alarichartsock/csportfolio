{
 "cells": [
  {
   "cell_type": "markdown",
   "metadata": {},
   "source": [
    "## Questions\n",
    "\n",
    "\n",
    "1.  \n",
    "    1. A translator translates one computer language into another. \n",
    "    2. An intepreter executes instructions\n",
    "    3. A virtual machine is a program that emulates a computer system.\n",
    "2. Interpretation executes instruction whilst translation merely shifts instructions between languages.\n",
    "3. It is possible but not desirable. The result would be lots more required instructions and therefore more required memories. Additionaly, compilers would need to be much more complicated.\n",
    "4. Yes, for example when a machine is being emulated down to its digital logic levels.\n",
    "5. Each additional level of interpretation slows down the machine by a factor of n/m. Thus the execution times for levels 2, 3, and 4 are kn/m, kn^2/m^2, and kn^3/m^3, respectively.\n",
    "6. To prevent unnecessary interpretation.\n",
    "7. For level 1: k, for level 2: k(n), for level 3: k(n^2), for level 4: k(n^3).\n",
    "8. Hardware and software are equivalent in that hardware is petrified software. Likewise, hardware can be emulated in software. They are physically different because software exists as memory while hardware is more tangible.\n",
    "9. No, a CD-ROM that cannot be changed is not capable of executing commands and it merely acts as a persistent storage device. Just because both are immutable does not imply equivalence. Additionally, modern computers are way more modular than the difference engine.\n",
    "10. It's very useful if you need to debug a program or update a program. Additionally, if you make a program mutable then it opens up lots of flexibility for programs to be more personalized.\n",
    "11. The amount of bytes fetched per cycle increased.\n",
    "12. IO on the Von Neumann machine would be done through the accumulator. IO on the PDP-8 would be done through the paper tape and the other port. The PDP-8 would be more efficient."
   ]
  },
  {
   "cell_type": "code",
   "execution_count": 13,
   "metadata": {},
   "outputs": [
    {
     "name": "stdout",
     "output_type": "stream",
     "text": [
      "2190000000000 RFID units produced in the US\n",
      "21900000000.0 $\n"
     ]
    }
   ],
   "source": [
    "annualrfid = 300000000 * 2 * 10 * 365 #assuming 10 RFID items per bag\n",
    "rfidcost = annualrfid * .01\n",
    "\n",
    "print(str(annualrfid) + \" RFID units produced in the US\")\n",
    "print(str(rfidcost)+\" $\")"
   ]
  },
  {
   "cell_type": "markdown",
   "metadata": {},
   "source": [
    "13. 2.1 trillion RFID tags would have to be produced. That amounts to 21 billion dollars, which is a pittance compared to the US's 20.54 trillion dollar GDP.\n",
    "14. Alarm clocks, watches, refridgerators (kind of an outdated question in 2020)\n",
    "15. 0.079 microns.\n",
    "16. I'm just going to opt to not write this report for the sake of my free time.\n",
    "17. Charles Babbage: first calculator. Ada Lovelace: First programmer. Alan Turing: father of modern computing."
   ]
  },
  {
   "cell_type": "code",
   "execution_count": null,
   "metadata": {},
   "outputs": [],
   "source": []
  }
 ],
 "metadata": {
  "kernelspec": {
   "display_name": "Python 3",
   "language": "python",
   "name": "python3"
  },
  "language_info": {
   "codemirror_mode": {
    "name": "ipython",
    "version": 3
   },
   "file_extension": ".py",
   "mimetype": "text/x-python",
   "name": "python",
   "nbconvert_exporter": "python",
   "pygments_lexer": "ipython3",
   "version": "3.7.7"
  }
 },
 "nbformat": 4,
 "nbformat_minor": 4
}
